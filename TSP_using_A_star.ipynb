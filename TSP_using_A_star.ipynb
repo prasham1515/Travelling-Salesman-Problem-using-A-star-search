{
  "nbformat": 4,
  "nbformat_minor": 0,
  "metadata": {
    "colab": {
      "name": "TSP using A star.ipynb",
      "provenance": [],
      "collapsed_sections": []
    },
    "kernelspec": {
      "name": "python3",
      "display_name": "Python 3"
    },
    "language_info": {
      "name": "python"
    }
  },
  "cells": [
    {
      "cell_type": "code",
      "source": [
        "from collections import defaultdict"
      ],
      "metadata": {
        "id": "p8kMl3z9svVM"
      },
      "execution_count": null,
      "outputs": []
    },
    {
      "cell_type": "markdown",
      "source": [
        "Class graph"
      ],
      "metadata": {
        "id": "BOnq5nz7bUZJ"
      }
    },
    {
      "cell_type": "code",
      "source": [
        "class Graph:\n",
        "    def __init__(self, edges, n):\n",
        "         self.adjList = [None] * n\n",
        "\n",
        "         for i in range(n):\n",
        "            self.adjList[i] = []\n",
        "\n",
        "         for (src, dest, weight) in edges:\n",
        "            self.adjList[src].append((dest, weight))\n",
        "\n",
        "    def printGraph(graph):\n",
        "        for src in range(len(graph.adjList)):\n",
        "          for (dest, weight) in graph.adjList[src]:\n",
        "            print(f'({src} —> {dest}, {weight}) ', end='')\n",
        "        print()"
      ],
      "metadata": {
        "id": "bW5U4MY0slUI"
      },
      "execution_count": null,
      "outputs": []
    },
    {
      "cell_type": "markdown",
      "source": [
        "Heurestic function f(x)=g(x)+h(x)"
      ],
      "metadata": {
        "id": "TGLMBYXdbW9G"
      }
    },
    {
      "cell_type": "code",
      "source": [
        "def h(graph, node, unvisited):\n",
        "  f=[]\n",
        "  g=[]\n",
        "  for i in range(len(graph.adjList[node])):\n",
        "    if (graph.adjList[node][i][0]) in unvisited:\n",
        "      f.append(graph.adjList[node][i][1])\n",
        "\n",
        "  for i in unvisited:\n",
        "    for j in range(len(graph.adjList[i])):\n",
        "      if(graph.adjList[i][j][0]==node):\n",
        "        g.append(graph.adjList[i][j][1])\n",
        "\n",
        "  if not g:\n",
        "    gx=0\n",
        "  else:\n",
        "    gx = min(g)\n",
        "  \n",
        "  if not f:\n",
        "    fx=0\n",
        "  else:  \n",
        "    fx = min(f)\n",
        "  \n",
        "  return (fx+gx)"
      ],
      "metadata": {
        "id": "c6dVEhTy2OXK"
      },
      "execution_count": null,
      "outputs": []
    },
    {
      "cell_type": "markdown",
      "source": [
        "A star algorithm as per the diagram"
      ],
      "metadata": {
        "id": "5QjWXVpTbbWf"
      }
    },
    {
      "cell_type": "code",
      "execution_count": null,
      "metadata": {
        "id": "Rx0Ii4silCwZ"
      },
      "outputs": [],
      "source": [
        "def astar(graph, start, visited, unvisited, iter, path):\n",
        "  for i in range (len(graph.adjList)):\n",
        "    if i not in visited:\n",
        "      unvisited.append(i)\n",
        "  dist=0\n",
        "  \n",
        "  if (not visited):\n",
        "    if(len(path)!= 10):\n",
        "      print(\"NO PATH FOUND\")\n",
        "      return\n",
        "    else:\n",
        "      path.append(start)\n",
        "      print(\"PATH FOUND\")\n",
        "      return \n",
        "  else:\n",
        "    n=visited[0]\n",
        "    if(len(path)== 10 and iter!=0 ):\n",
        "        path.append(start)\n",
        "        print(\"PATH FOUND\")\n",
        "        return \n",
        "    else:\n",
        "      iter+=1\n",
        "      for i in range(len(graph.adjList[n])):\n",
        "        if graph.adjList[n][i][0] not in visited:\n",
        "          if graph.adjList[n][i][0] not in path:\n",
        "            visited.append(graph.adjList[n][i][0])\n",
        "            unvisited.remove(graph.adjList[n][i][0])\n",
        "\n",
        "    heur=[]\n",
        "    for i in visited:\n",
        "      heur.append(h(graph,i,unvisited))\n",
        "    \n",
        "    \n",
        "    x=visited.pop(0)\n",
        "    path.append(x)\n",
        "\n",
        "    visited = [x for _,x in sorted(zip(heur,visited))]\n",
        "  \n",
        "    astar(graph, 0, visited, unvisited, iter, path)"
      ]
    },
    {
      "cell_type": "markdown",
      "source": [
        "Given below are the edges, you can change them as per your wish"
      ],
      "metadata": {
        "id": "EtlieDsDbN9Q"
      }
    },
    {
      "cell_type": "code",
      "source": [
        "edges = [(0, 1, 4),\n",
        "         (1, 2, 24), (1, 2, 7), \n",
        "         (2, 0, 3), (2, 3, 3), \n",
        "         (3, 4, 4),\n",
        "         (4, 2, 10), (4, 9, 42),(4, 5, 10),\n",
        "         (5, 6, 42),(5, 4, 1),(5, 3, 7),\n",
        "         (6, 8, 3),(6, 9, 75),\n",
        "         (7, 0, 12),(7, 5, 67),\n",
        "         (8, 6, 9),(8, 7, 3),\n",
        "         (9, 4, 9),(9, 5, 34),(9, 6, 1),\n",
        "         ]\n",
        "\n",
        "n=10\n",
        "graph = Graph(edges, n)"
      ],
      "metadata": {
        "id": "dUs7c-Ztt9jQ"
      },
      "execution_count": null,
      "outputs": []
    },
    {
      "cell_type": "code",
      "source": [
        "for i in range (len(graph.adjList)):\n",
        "  print (i,graph.adjList[i])"
      ],
      "metadata": {
        "colab": {
          "base_uri": "https://localhost:8080/"
        },
        "id": "tIUPKyuN452o",
        "outputId": "7cbdab29-5393-4799-f3a8-b380a05428c7"
      },
      "execution_count": null,
      "outputs": [
        {
          "output_type": "stream",
          "name": "stdout",
          "text": [
            "0 [(1, 4)]\n",
            "1 [(2, 24), (2, 7)]\n",
            "2 [(0, 3), (3, 3)]\n",
            "3 [(4, 4)]\n",
            "4 [(2, 10), (9, 42), (5, 10)]\n",
            "5 [(6, 42), (4, 1), (3, 7)]\n",
            "6 [(8, 3), (9, 75)]\n",
            "7 [(0, 12), (5, 67)]\n",
            "8 [(6, 9), (7, 3)]\n",
            "9 [(4, 9), (5, 34), (6, 1)]\n"
          ]
        }
      ]
    },
    {
      "cell_type": "code",
      "source": [
        "visited=[]\n",
        "unvisited=[]\n",
        "path=[]\n",
        "visited.append(0)\n",
        "iter=0"
      ],
      "metadata": {
        "id": "avrpCJBYI43Q"
      },
      "execution_count": null,
      "outputs": []
    },
    {
      "cell_type": "code",
      "source": [
        "astar(graph,0,visited, unvisited, iter, path)"
      ],
      "metadata": {
        "colab": {
          "base_uri": "https://localhost:8080/"
        },
        "id": "I9nnWqlWz25W",
        "outputId": "60b2887f-c9af-4883-92a8-15ea47c9c299"
      },
      "execution_count": null,
      "outputs": [
        {
          "output_type": "stream",
          "name": "stdout",
          "text": [
            "PATH FOUND\n"
          ]
        }
      ]
    },
    {
      "cell_type": "code",
      "source": [
        "print(path)"
      ],
      "metadata": {
        "colab": {
          "base_uri": "https://localhost:8080/"
        },
        "id": "VqmAKLXLVzdt",
        "outputId": "bfae5998-3b3b-4a1d-d2e5-fec053f847ca"
      },
      "execution_count": null,
      "outputs": [
        {
          "output_type": "stream",
          "name": "stdout",
          "text": [
            "[0, 1, 2, 3, 4, 9, 6, 5, 8, 7, 0]\n"
          ]
        }
      ]
    },
    {
      "cell_type": "code",
      "source": [
        "dist=0\n",
        "for i in range(len(path)-1):\n",
        "  x=path[i]\n",
        "  y=path[i+1]\n",
        "  for j in range(len(graph.adjList[path[i]])):\n",
        "    if(graph.adjList[x][j][0]==path[i+1]):\n",
        "      dist=dist+(graph.adjList[x][j][1])\n",
        "\n",
        "print(\"Distance is \", dist)"
      ],
      "metadata": {
        "colab": {
          "base_uri": "https://localhost:8080/"
        },
        "id": "2lseUozRJ-wh",
        "outputId": "6edfc345-f092-4c9d-a227-2fa26935c4b4"
      },
      "execution_count": null,
      "outputs": [
        {
          "output_type": "stream",
          "name": "stdout",
          "text": [
            "Distance is  100\n"
          ]
        }
      ]
    }
  ]
}